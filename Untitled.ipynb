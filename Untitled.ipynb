{
 "cells": [
  {
   "cell_type": "code",
   "execution_count": 1,
   "id": "85db9056-d927-4466-8243-5b4422f379a5",
   "metadata": {},
   "outputs": [
    {
     "data": {
      "text/plain": [
       "14.064516129032258"
      ]
     },
     "execution_count": 1,
     "metadata": {},
     "output_type": "execute_result"
    }
   ],
   "source": [
    "import pandas as pd\n",
    "df = pd.read_csv('C:\\\\Users\\\\Lenovo\\\\Downloads\\\\day.csv')\n",
    "df\n",
    "            \n",
    "df['Numeric-2'].max()\n",
    "df['Numeric'][df['Numeric-Suffix'] == '9th']\n",
    "df.fillna(0, inplace=True)\n",
    "df['Numeric-2'].mean()\n",
    "\n"
   ]
  },
  {
   "cell_type": "code",
   "execution_count": 2,
   "id": "92ad7c04-8df1-44fb-bf14-b306172964fa",
   "metadata": {},
   "outputs": [
    {
     "data": {
      "text/html": [
       "<div>\n",
       "<style scoped>\n",
       "    .dataframe tbody tr th:only-of-type {\n",
       "        vertical-align: middle;\n",
       "    }\n",
       "\n",
       "    .dataframe tbody tr th {\n",
       "        vertical-align: top;\n",
       "    }\n",
       "\n",
       "    .dataframe thead th {\n",
       "        text-align: right;\n",
       "    }\n",
       "</style>\n",
       "<table border=\"1\" class=\"dataframe\">\n",
       "  <thead>\n",
       "    <tr style=\"text-align: right;\">\n",
       "      <th></th>\n",
       "      <th>day</th>\n",
       "      <th>temperature</th>\n",
       "      <th>windspeed</th>\n",
       "      <th>event</th>\n",
       "    </tr>\n",
       "  </thead>\n",
       "  <tbody>\n",
       "    <tr>\n",
       "      <th>0</th>\n",
       "      <td>11/1/2019</td>\n",
       "      <td>32</td>\n",
       "      <td>6</td>\n",
       "      <td>Rain</td>\n",
       "    </tr>\n",
       "    <tr>\n",
       "      <th>1</th>\n",
       "      <td>12/2/2020</td>\n",
       "      <td>35</td>\n",
       "      <td>7</td>\n",
       "      <td>sunny</td>\n",
       "    </tr>\n",
       "    <tr>\n",
       "      <th>2</th>\n",
       "      <td>22/4/2012</td>\n",
       "      <td>28</td>\n",
       "      <td>2</td>\n",
       "      <td>snow</td>\n",
       "    </tr>\n",
       "    <tr>\n",
       "      <th>3</th>\n",
       "      <td>12/5/2010</td>\n",
       "      <td>24</td>\n",
       "      <td>7</td>\n",
       "      <td>snow</td>\n",
       "    </tr>\n",
       "    <tr>\n",
       "      <th>4</th>\n",
       "      <td>7/8/2014</td>\n",
       "      <td>32</td>\n",
       "      <td>4</td>\n",
       "      <td>Rain</td>\n",
       "    </tr>\n",
       "    <tr>\n",
       "      <th>5</th>\n",
       "      <td>9/9/2011</td>\n",
       "      <td>31</td>\n",
       "      <td>2</td>\n",
       "      <td>sunny</td>\n",
       "    </tr>\n",
       "  </tbody>\n",
       "</table>\n",
       "</div>"
      ],
      "text/plain": [
       "         day  temperature  windspeed  event\n",
       "0  11/1/2019           32          6   Rain\n",
       "1  12/2/2020           35          7  sunny\n",
       "2  22/4/2012           28          2   snow\n",
       "3  12/5/2010           24          7   snow\n",
       "4   7/8/2014           32          4   Rain\n",
       "5   9/9/2011           31          2  sunny"
      ]
     },
     "execution_count": 2,
     "metadata": {},
     "output_type": "execute_result"
    }
   ],
   "source": [
    "import pandas as pd \n",
    "weather_data = {\"day\":[\"11/1/2019\",\"12/2/2020\",\"22/4/2012\",\"12/5/2010\",\"7/8/2014\",\"9/9/2011\"],\n",
    "                \"temperature\":[32,35,28,24,32,31],\n",
    "                \"windspeed\":[6,7,2,7,4,2],\n",
    "                \"event\":[\"Rain\",\"sunny\",\"snow\",\"snow\",\"Rain\",\"sunny\"],\n",
    "               }\n",
    "df = pd.DataFrame(weather_data)\n",
    "df\n",
    "df.tail()\n",
    "df.tail(1)\n",
    "df.tail(4)\n",
    "df.head(2)\n",
    "df\n",
    "df.shape\n",
    "rows , columns = df.shape\n",
    "rows\n",
    "columns\n",
    "df[:]\n",
    "df.columns\n",
    "rows\n",
    "df.day\n",
    "df\n",
    "df[\"event\"]\n",
    "# type(df[\"event\"])\n",
    "# df[\n",
    "df\n",
    "df[[\"event\",\"day\"]]\n",
    "df[\"temperature\"].std()\n",
    "df[\"temperature\"].mean()\n",
    "df.describe()\n",
    "df[df.temperature>=32]\n",
    "df[[\"day\",\"temperature\"]][df.temperature == df.temperature.max()]\n",
    "df.index\n",
    "df\n",
    "df.set_index(\"day\",inplace= True)\n",
    "df\n",
    "df.loc[\"22/4/2012\"]\n",
    "df.reset_index(inplace = True)\n",
    "df"
   ]
  },
  {
   "cell_type": "code",
   "execution_count": 3,
   "id": "80589d4e-e90f-426c-bb00-03993ec7735c",
   "metadata": {},
   "outputs": [
    {
     "data": {
      "text/html": [
       "<div>\n",
       "<style scoped>\n",
       "    .dataframe tbody tr th:only-of-type {\n",
       "        vertical-align: middle;\n",
       "    }\n",
       "\n",
       "    .dataframe tbody tr th {\n",
       "        vertical-align: top;\n",
       "    }\n",
       "\n",
       "    .dataframe thead th {\n",
       "        text-align: right;\n",
       "    }\n",
       "</style>\n",
       "<table border=\"1\" class=\"dataframe\">\n",
       "  <thead>\n",
       "    <tr style=\"text-align: right;\">\n",
       "      <th></th>\n",
       "      <th>atif khan</th>\n",
       "    </tr>\n",
       "  </thead>\n",
       "  <tbody>\n",
       "    <tr>\n",
       "      <th>0</th>\n",
       "      <td>khan</td>\n",
       "    </tr>\n",
       "    <tr>\n",
       "      <th>1</th>\n",
       "      <td>mandokhail</td>\n",
       "    </tr>\n",
       "  </tbody>\n",
       "</table>\n",
       "</div>"
      ],
      "text/plain": [
       "    atif khan\n",
       "0        khan\n",
       "1  mandokhail"
      ]
     },
     "execution_count": 3,
     "metadata": {},
     "output_type": "execute_result"
    }
   ],
   "source": [
    "import pandas as pd\n",
    "df = pd.read_excel(\"C:\\\\Users\\\\Lenovo\\\\Downloads\\\\RPA_Jobs.xlsx\",\"Sheet\")\n",
    "df"
   ]
  },
  {
   "cell_type": "code",
   "execution_count": 4,
   "id": "79d4075d-b8e7-43d4-84a6-0ccaa052108b",
   "metadata": {},
   "outputs": [
    {
     "data": {
      "text/html": [
       "<div>\n",
       "<style scoped>\n",
       "    .dataframe tbody tr th:only-of-type {\n",
       "        vertical-align: middle;\n",
       "    }\n",
       "\n",
       "    .dataframe tbody tr th {\n",
       "        vertical-align: top;\n",
       "    }\n",
       "\n",
       "    .dataframe thead th {\n",
       "        text-align: right;\n",
       "    }\n",
       "</style>\n",
       "<table border=\"1\" class=\"dataframe\">\n",
       "  <thead>\n",
       "    <tr style=\"text-align: right;\">\n",
       "      <th></th>\n",
       "      <th>day</th>\n",
       "      <th>temperature</th>\n",
       "      <th>windspeed</th>\n",
       "      <th>event</th>\n",
       "    </tr>\n",
       "  </thead>\n",
       "  <tbody>\n",
       "    <tr>\n",
       "      <th>0</th>\n",
       "      <td>11/1/2019</td>\n",
       "      <td>32</td>\n",
       "      <td>6</td>\n",
       "      <td>Rain</td>\n",
       "    </tr>\n",
       "    <tr>\n",
       "      <th>1</th>\n",
       "      <td>12/2/2020</td>\n",
       "      <td>35</td>\n",
       "      <td>7</td>\n",
       "      <td>sunny</td>\n",
       "    </tr>\n",
       "    <tr>\n",
       "      <th>2</th>\n",
       "      <td>22/4/2012</td>\n",
       "      <td>28</td>\n",
       "      <td>2</td>\n",
       "      <td>snow</td>\n",
       "    </tr>\n",
       "    <tr>\n",
       "      <th>3</th>\n",
       "      <td>12/5/2010</td>\n",
       "      <td>24</td>\n",
       "      <td>7</td>\n",
       "      <td>snow</td>\n",
       "    </tr>\n",
       "    <tr>\n",
       "      <th>4</th>\n",
       "      <td>7/8/2014</td>\n",
       "      <td>32</td>\n",
       "      <td>4</td>\n",
       "      <td>Rain</td>\n",
       "    </tr>\n",
       "    <tr>\n",
       "      <th>5</th>\n",
       "      <td>9/9/2011</td>\n",
       "      <td>31</td>\n",
       "      <td>2</td>\n",
       "      <td>sunny</td>\n",
       "    </tr>\n",
       "  </tbody>\n",
       "</table>\n",
       "</div>"
      ],
      "text/plain": [
       "         day  temperature  windspeed  event\n",
       "0  11/1/2019           32          6   Rain\n",
       "1  12/2/2020           35          7  sunny\n",
       "2  22/4/2012           28          2   snow\n",
       "3  12/5/2010           24          7   snow\n",
       "4   7/8/2014           32          4   Rain\n",
       "5   9/9/2011           31          2  sunny"
      ]
     },
     "execution_count": 4,
     "metadata": {},
     "output_type": "execute_result"
    }
   ],
   "source": [
    "weather_data =  {\"day\":[\"11/1/2019\",\"12/2/2020\",\"22/4/2012\",\"12/5/2010\",\"7/8/2014\",\"9/9/2011\"],\n",
    "                \"temperature\":[32,35,28,24,32,31],\n",
    "                \"windspeed\":[6,7,2,7,4,2],\n",
    "                \"event\":[\"Rain\",\"sunny\",\"snow\",\"snow\",\"Rain\",\"sunny\"],\n",
    "               }\n",
    "df = pd.DataFrame(weather_data)\n",
    "df"
   ]
  },
  {
   "cell_type": "code",
   "execution_count": 5,
   "id": "1d13d3b4-dff1-4db7-ad4d-4747faa3e415",
   "metadata": {},
   "outputs": [
    {
     "data": {
      "text/html": [
       "<div>\n",
       "<style scoped>\n",
       "    .dataframe tbody tr th:only-of-type {\n",
       "        vertical-align: middle;\n",
       "    }\n",
       "\n",
       "    .dataframe tbody tr th {\n",
       "        vertical-align: top;\n",
       "    }\n",
       "\n",
       "    .dataframe thead th {\n",
       "        text-align: right;\n",
       "    }\n",
       "</style>\n",
       "<table border=\"1\" class=\"dataframe\">\n",
       "  <thead>\n",
       "    <tr style=\"text-align: right;\">\n",
       "      <th></th>\n",
       "      <th>day</th>\n",
       "      <th>temperature</th>\n",
       "      <th>windspeed</th>\n",
       "      <th>event</th>\n",
       "    </tr>\n",
       "  </thead>\n",
       "  <tbody>\n",
       "    <tr>\n",
       "      <th>0</th>\n",
       "      <td>1/2/2102</td>\n",
       "      <td>32</td>\n",
       "      <td>6</td>\n",
       "      <td>rain</td>\n",
       "    </tr>\n",
       "    <tr>\n",
       "      <th>1</th>\n",
       "      <td>2/3/2018</td>\n",
       "      <td>78</td>\n",
       "      <td>9</td>\n",
       "      <td>sunny</td>\n",
       "    </tr>\n",
       "    <tr>\n",
       "      <th>2</th>\n",
       "      <td>3/1/2021</td>\n",
       "      <td>88</td>\n",
       "      <td>10</td>\n",
       "      <td>rain</td>\n",
       "    </tr>\n",
       "  </tbody>\n",
       "</table>\n",
       "</div>"
      ],
      "text/plain": [
       "        day  temperature  windspeed  event\n",
       "0  1/2/2102           32          6   rain\n",
       "1  2/3/2018           78          9  sunny\n",
       "2  3/1/2021           88         10   rain"
      ]
     },
     "execution_count": 5,
     "metadata": {},
     "output_type": "execute_result"
    }
   ],
   "source": [
    "weather_data = [\n",
    "    (\"1/2/2102\",32,6,\"rain\"),\n",
    "    (\"2/3/2018\",78,9,\"sunny\"),\n",
    "    (\"3/1/2021\",88,10,\"rain\"),\n",
    "]\n",
    "df = pd.DataFrame(weather_data,columns=[\"day\",\"temperature\",\"windspeed\",\"event\"])\n",
    "df\n",
    "df\n"
   ]
  },
  {
   "cell_type": "code",
   "execution_count": 6,
   "id": "98558454-2950-49b8-8bf0-8c91aaf835ae",
   "metadata": {},
   "outputs": [
    {
     "data": {
      "text/html": [
       "<div>\n",
       "<style scoped>\n",
       "    .dataframe tbody tr th:only-of-type {\n",
       "        vertical-align: middle;\n",
       "    }\n",
       "\n",
       "    .dataframe tbody tr th {\n",
       "        vertical-align: top;\n",
       "    }\n",
       "\n",
       "    .dataframe thead th {\n",
       "        text-align: right;\n",
       "    }\n",
       "</style>\n",
       "<table border=\"1\" class=\"dataframe\">\n",
       "  <thead>\n",
       "    <tr style=\"text-align: right;\">\n",
       "      <th></th>\n",
       "      <th>tickers</th>\n",
       "      <th>day</th>\n",
       "      <th>windspeed</th>\n",
       "      <th>event</th>\n",
       "    </tr>\n",
       "  </thead>\n",
       "  <tbody>\n",
       "    <tr>\n",
       "      <th>tickers</th>\n",
       "      <td>eps</td>\n",
       "      <td>revenue</td>\n",
       "      <td>price</td>\n",
       "      <td>people</td>\n",
       "    </tr>\n",
       "    <tr>\n",
       "      <th>google</th>\n",
       "      <td>27.8</td>\n",
       "      <td>89</td>\n",
       "      <td>888</td>\n",
       "      <td>ahmed</td>\n",
       "    </tr>\n",
       "    <tr>\n",
       "      <th>microsoft</th>\n",
       "      <td>-1</td>\n",
       "      <td>88</td>\n",
       "      <td>999</td>\n",
       "      <td>maaz</td>\n",
       "    </tr>\n",
       "    <tr>\n",
       "      <th>tata</th>\n",
       "      <td>not available</td>\n",
       "      <td>77</td>\n",
       "      <td>777</td>\n",
       "      <td>n.a.</td>\n",
       "    </tr>\n",
       "    <tr>\n",
       "      <th>mahindra</th>\n",
       "      <td>9. 8</td>\n",
       "      <td>-1</td>\n",
       "      <td>n.a.</td>\n",
       "      <td>uzair</td>\n",
       "    </tr>\n",
       "  </tbody>\n",
       "</table>\n",
       "</div>"
      ],
      "text/plain": [
       "                 tickers       day windspeed   event\n",
       "tickers              eps  revenue     price   people\n",
       "google              27.8        89       888   ahmed\n",
       "microsoft             -1        88       999    maaz\n",
       "tata       not available        77       777    n.a.\n",
       "mahindra            9. 8        -1      n.a.   uzair"
      ]
     },
     "execution_count": 6,
     "metadata": {},
     "output_type": "execute_result"
    }
   ],
   "source": [
    "df = pd.read_csv(\"C:\\\\Users\\\\Lenovo\\\\Downloads\\\\continent.csv\",header= None, names=[\"tickers\",\"day\",\"windspeed\",\"event\"]) \n",
    "df\n"
   ]
  },
  {
   "cell_type": "code",
   "execution_count": 7,
   "id": "a80c0949-bc4c-4e42-8abe-f60ed57cc217",
   "metadata": {},
   "outputs": [
    {
     "data": {
      "text/html": [
       "<div>\n",
       "<style scoped>\n",
       "    .dataframe tbody tr th:only-of-type {\n",
       "        vertical-align: middle;\n",
       "    }\n",
       "\n",
       "    .dataframe tbody tr th {\n",
       "        vertical-align: top;\n",
       "    }\n",
       "\n",
       "    .dataframe thead th {\n",
       "        text-align: right;\n",
       "    }\n",
       "</style>\n",
       "<table border=\"1\" class=\"dataframe\">\n",
       "  <thead>\n",
       "    <tr style=\"text-align: right;\">\n",
       "      <th></th>\n",
       "      <th>tickers</th>\n",
       "      <th>eps</th>\n",
       "      <th>revenue</th>\n",
       "      <th>price</th>\n",
       "      <th>people</th>\n",
       "    </tr>\n",
       "  </thead>\n",
       "  <tbody>\n",
       "    <tr>\n",
       "      <th>0</th>\n",
       "      <td>google</td>\n",
       "      <td>27.8</td>\n",
       "      <td>89</td>\n",
       "      <td>888</td>\n",
       "      <td>ahmed</td>\n",
       "    </tr>\n",
       "    <tr>\n",
       "      <th>1</th>\n",
       "      <td>microsoft</td>\n",
       "      <td>-1</td>\n",
       "      <td>88</td>\n",
       "      <td>999</td>\n",
       "      <td>maaz</td>\n",
       "    </tr>\n",
       "    <tr>\n",
       "      <th>2</th>\n",
       "      <td>tata</td>\n",
       "      <td>NaN</td>\n",
       "      <td>77</td>\n",
       "      <td>777</td>\n",
       "      <td>n.a.</td>\n",
       "    </tr>\n",
       "    <tr>\n",
       "      <th>3</th>\n",
       "      <td>mahindra</td>\n",
       "      <td>9. 8</td>\n",
       "      <td>-1</td>\n",
       "      <td>n.a.</td>\n",
       "      <td>uzair</td>\n",
       "    </tr>\n",
       "  </tbody>\n",
       "</table>\n",
       "</div>"
      ],
      "text/plain": [
       "     tickers   eps  revenue  price  people\n",
       "0     google  27.8        89    888  ahmed\n",
       "1  microsoft    -1        88    999   maaz\n",
       "2       tata   NaN        77    777   n.a.\n",
       "3   mahindra  9. 8        -1   n.a.  uzair"
      ]
     },
     "execution_count": 7,
     "metadata": {},
     "output_type": "execute_result"
    }
   ],
   "source": [
    "df = pd.read_csv(\"C:\\\\Users\\\\Lenovo\\\\Downloads\\\\continent.csv\")\n",
    "# na_values = [\"not available\",\"n.a.\"])\n",
    "df\n",
    "df = pd.read_csv(\"C:\\\\Users\\\\Lenovo\\\\Downloads\\\\continent.csv\", na_values = {\n",
    "    \"eps\":[\"not available\",\"n.a.\"],\n",
    "    \"revenue\":[\"not available\",\"n.a.\",-1],\n",
    "})\n",
    "df\n",
    "                                                                        "
   ]
  },
  {
   "cell_type": "code",
   "execution_count": 8,
   "id": "0d9ee982-c89e-4709-9e9e-f147f883dc5b",
   "metadata": {},
   "outputs": [
    {
     "data": {
      "text/html": [
       "<div>\n",
       "<style scoped>\n",
       "    .dataframe tbody tr th:only-of-type {\n",
       "        vertical-align: middle;\n",
       "    }\n",
       "\n",
       "    .dataframe tbody tr th {\n",
       "        vertical-align: top;\n",
       "    }\n",
       "\n",
       "    .dataframe thead th {\n",
       "        text-align: right;\n",
       "    }\n",
       "</style>\n",
       "<table border=\"1\" class=\"dataframe\">\n",
       "  <thead>\n",
       "    <tr style=\"text-align: right;\">\n",
       "      <th></th>\n",
       "      <th>tickers</th>\n",
       "      <th>eps</th>\n",
       "      <th>revenue</th>\n",
       "      <th>price</th>\n",
       "      <th>people</th>\n",
       "    </tr>\n",
       "  </thead>\n",
       "  <tbody>\n",
       "    <tr>\n",
       "      <th>0</th>\n",
       "      <td>google</td>\n",
       "      <td>27.8</td>\n",
       "      <td>89</td>\n",
       "      <td>888</td>\n",
       "      <td>ahmed</td>\n",
       "    </tr>\n",
       "    <tr>\n",
       "      <th>1</th>\n",
       "      <td>microsoft</td>\n",
       "      <td>-1</td>\n",
       "      <td>88</td>\n",
       "      <td>999</td>\n",
       "      <td>maaz</td>\n",
       "    </tr>\n",
       "    <tr>\n",
       "      <th>2</th>\n",
       "      <td>tata</td>\n",
       "      <td>NaN</td>\n",
       "      <td>77</td>\n",
       "      <td>777</td>\n",
       "      <td>n.a.</td>\n",
       "    </tr>\n",
       "    <tr>\n",
       "      <th>3</th>\n",
       "      <td>mahindra</td>\n",
       "      <td>9. 8</td>\n",
       "      <td>-1</td>\n",
       "      <td>n.a.</td>\n",
       "      <td>uzair</td>\n",
       "    </tr>\n",
       "  </tbody>\n",
       "</table>\n",
       "</div>"
      ],
      "text/plain": [
       "     tickers   eps  revenue  price  people\n",
       "0     google  27.8        89    888  ahmed\n",
       "1  microsoft    -1        88    999   maaz\n",
       "2       tata   NaN        77    777   n.a.\n",
       "3   mahindra  9. 8        -1   n.a.  uzair"
      ]
     },
     "execution_count": 8,
     "metadata": {},
     "output_type": "execute_result"
    }
   ],
   "source": [
    "df"
   ]
  },
  {
   "cell_type": "code",
   "execution_count": 9,
   "id": "8f847975-be77-4923-b8a9-8f8ecc37aa30",
   "metadata": {},
   "outputs": [
    {
     "data": {
      "text/html": [
       "<div>\n",
       "<style scoped>\n",
       "    .dataframe tbody tr th:only-of-type {\n",
       "        vertical-align: middle;\n",
       "    }\n",
       "\n",
       "    .dataframe tbody tr th {\n",
       "        vertical-align: top;\n",
       "    }\n",
       "\n",
       "    .dataframe thead th {\n",
       "        text-align: right;\n",
       "    }\n",
       "</style>\n",
       "<table border=\"1\" class=\"dataframe\">\n",
       "  <thead>\n",
       "    <tr style=\"text-align: right;\">\n",
       "      <th></th>\n",
       "      <th>tickers</th>\n",
       "      <th>eps</th>\n",
       "      <th>revenue</th>\n",
       "      <th>price</th>\n",
       "      <th>people</th>\n",
       "    </tr>\n",
       "  </thead>\n",
       "  <tbody>\n",
       "    <tr>\n",
       "      <th>0</th>\n",
       "      <td>google</td>\n",
       "      <td>27.8</td>\n",
       "      <td>89</td>\n",
       "      <td>888</td>\n",
       "      <td>ahmed</td>\n",
       "    </tr>\n",
       "    <tr>\n",
       "      <th>1</th>\n",
       "      <td>microsoft</td>\n",
       "      <td>-1</td>\n",
       "      <td>88</td>\n",
       "      <td>999</td>\n",
       "      <td>maaz</td>\n",
       "    </tr>\n",
       "    <tr>\n",
       "      <th>2</th>\n",
       "      <td>tata</td>\n",
       "      <td>NaN</td>\n",
       "      <td>77</td>\n",
       "      <td>777</td>\n",
       "      <td>n.a.</td>\n",
       "    </tr>\n",
       "    <tr>\n",
       "      <th>3</th>\n",
       "      <td>mahindra</td>\n",
       "      <td>9. 8</td>\n",
       "      <td>-1</td>\n",
       "      <td>n.a.</td>\n",
       "      <td>uzair</td>\n",
       "    </tr>\n",
       "  </tbody>\n",
       "</table>\n",
       "</div>"
      ],
      "text/plain": [
       "     tickers   eps  revenue  price  people\n",
       "0     google  27.8        89    888  ahmed\n",
       "1  microsoft    -1        88    999   maaz\n",
       "2       tata   NaN        77    777   n.a.\n",
       "3   mahindra  9. 8        -1   n.a.  uzair"
      ]
     },
     "execution_count": 9,
     "metadata": {},
     "output_type": "execute_result"
    }
   ],
   "source": [
    "df.to_csv('new.csv', index=False)\n",
    "df"
   ]
  },
  {
   "cell_type": "code",
   "execution_count": 10,
   "id": "1d56dcf4-153d-4b01-9a6d-33ab673ec580",
   "metadata": {},
   "outputs": [
    {
     "data": {
      "text/html": [
       "<div>\n",
       "<style scoped>\n",
       "    .dataframe tbody tr th:only-of-type {\n",
       "        vertical-align: middle;\n",
       "    }\n",
       "\n",
       "    .dataframe tbody tr th {\n",
       "        vertical-align: top;\n",
       "    }\n",
       "\n",
       "    .dataframe thead th {\n",
       "        text-align: right;\n",
       "    }\n",
       "</style>\n",
       "<table border=\"1\" class=\"dataframe\">\n",
       "  <thead>\n",
       "    <tr style=\"text-align: right;\">\n",
       "      <th></th>\n",
       "      <th>tickers</th>\n",
       "      <th>eps</th>\n",
       "      <th>revenue</th>\n",
       "      <th>price</th>\n",
       "      <th>people</th>\n",
       "    </tr>\n",
       "  </thead>\n",
       "  <tbody>\n",
       "    <tr>\n",
       "      <th>0</th>\n",
       "      <td>google</td>\n",
       "      <td>27.8</td>\n",
       "      <td>89</td>\n",
       "      <td>888</td>\n",
       "      <td>ahmed</td>\n",
       "    </tr>\n",
       "    <tr>\n",
       "      <th>1</th>\n",
       "      <td>microsoft</td>\n",
       "      <td>-1</td>\n",
       "      <td>88</td>\n",
       "      <td>999</td>\n",
       "      <td>maaz</td>\n",
       "    </tr>\n",
       "    <tr>\n",
       "      <th>2</th>\n",
       "      <td>tata</td>\n",
       "      <td>NaN</td>\n",
       "      <td>77</td>\n",
       "      <td>777</td>\n",
       "      <td>atif khan</td>\n",
       "    </tr>\n",
       "    <tr>\n",
       "      <th>3</th>\n",
       "      <td>mahindra</td>\n",
       "      <td>9. 8</td>\n",
       "      <td>-1</td>\n",
       "      <td>n.a.</td>\n",
       "      <td>uzair</td>\n",
       "    </tr>\n",
       "  </tbody>\n",
       "</table>\n",
       "</div>"
      ],
      "text/plain": [
       "     tickers   eps  revenue  price      people\n",
       "0     google  27.8        89    888      ahmed\n",
       "1  microsoft    -1        88    999       maaz\n",
       "2       tata   NaN        77    777  atif khan\n",
       "3   mahindra  9. 8        -1   n.a.      uzair"
      ]
     },
     "execution_count": 10,
     "metadata": {},
     "output_type": "execute_result"
    }
   ],
   "source": [
    "import pandas as pd\n",
    "def convert_people_cell(cell):\n",
    "    if cell==\"n.a.\":\n",
    "        return \"atif khan\"\n",
    "    return cell\n",
    "def convert_revenue_cell(cell):\n",
    "    if cell == \"-1\":\n",
    "        return \"n.a.\"\n",
    "    return cell\n",
    "df = pd.read_excel(\"C:\\\\Users\\\\Lenovo\\\\OneDrive\\\\Documents\\\\stock.data.xlsx\",\"Sheet1\", converters={\n",
    "    \"people\":convert_people_cell,\n",
    "    \"revenue\":convert_revenue_cell\n",
    "})\n",
    "df\n",
    "\n"
   ]
  },
  {
   "cell_type": "code",
   "execution_count": 11,
   "id": "35f56457-f735-4c6d-bfd4-fa0a727ffeca",
   "metadata": {},
   "outputs": [],
   "source": [
    "df.to_excel(\"new.xlsx\",sheet_name=\"stocks\", startrow=0, startcol=0, index=False)"
   ]
  },
  {
   "cell_type": "code",
   "execution_count": 12,
   "id": "ddfd9619-2c06-4869-8f99-e3143d92d2c1",
   "metadata": {},
   "outputs": [],
   "source": [
    "df_stocks = pd.DataFrame({\n",
    "    \"tickers\":[\"googl\",\"microsoft\",\"mahindra\",\"tata\"],\n",
    "    \"price\":[24,44,66,22],\n",
    "    \"revenue\":[9,8,7,6],\n",
    "    \"people\":[\"atif\",\"hammad\",\"shahid\",\"sanober\"],\n",
    "})\n",
    "df_weather = pd.DataFrame({\n",
    "    \"city\":[\"karachi\",\"quetta\",\"islamabad\",\"peshawar\"],\n",
    "    \"day\":[\"1/1/2012\",\"7/7/2021\",\"3/4/2010\",\"8/8/2011\"],\n",
    "    \"temperaure\":[33,29,34,31]\n",
    "})\n",
    "    \n"
   ]
  },
  {
   "cell_type": "code",
   "execution_count": 13,
   "id": "d7488d4b-bfc9-44cb-bb57-ca6072ae9962",
   "metadata": {},
   "outputs": [],
   "source": [
    "with pd.ExcelWriter(\"stocks_weather.xlsx\") as writer:\n",
    "    df_stocks.to_excel(writer,sheet_name = \"stocks\")\n",
    "    df_weather.to_excel(writer,sheet_name = \"weather\")"
   ]
  },
  {
   "cell_type": "code",
   "execution_count": 14,
   "id": "a7a5544e-50e6-415b-8cbe-62dc877445c1",
   "metadata": {},
   "outputs": [
    {
     "name": "stdout",
     "output_type": "stream",
     "text": [
      "Index(['date', 'temperature', 'winddpeed', 'event'], dtype='object')\n"
     ]
    },
    {
     "data": {
      "text/html": [
       "<div>\n",
       "<style scoped>\n",
       "    .dataframe tbody tr th:only-of-type {\n",
       "        vertical-align: middle;\n",
       "    }\n",
       "\n",
       "    .dataframe tbody tr th {\n",
       "        vertical-align: top;\n",
       "    }\n",
       "\n",
       "    .dataframe thead th {\n",
       "        text-align: right;\n",
       "    }\n",
       "</style>\n",
       "<table border=\"1\" class=\"dataframe\">\n",
       "  <thead>\n",
       "    <tr style=\"text-align: right;\">\n",
       "      <th></th>\n",
       "      <th>temperature</th>\n",
       "      <th>winddpeed</th>\n",
       "      <th>event</th>\n",
       "    </tr>\n",
       "    <tr>\n",
       "      <th>date</th>\n",
       "      <th></th>\n",
       "      <th></th>\n",
       "      <th></th>\n",
       "    </tr>\n",
       "  </thead>\n",
       "  <tbody>\n",
       "    <tr>\n",
       "      <th>2017-01-01</th>\n",
       "      <td>32mph</td>\n",
       "      <td>32</td>\n",
       "      <td>snow</td>\n",
       "    </tr>\n",
       "    <tr>\n",
       "      <th>2017-01-04</th>\n",
       "      <td>32mph</td>\n",
       "      <td>40</td>\n",
       "      <td>sunny</td>\n",
       "    </tr>\n",
       "    <tr>\n",
       "      <th>2017-01-05</th>\n",
       "      <td>32</td>\n",
       "      <td>28mph</td>\n",
       "      <td>no event</td>\n",
       "    </tr>\n",
       "    <tr>\n",
       "      <th>2017-01-06</th>\n",
       "      <td>32</td>\n",
       "      <td>28</td>\n",
       "      <td>rain</td>\n",
       "    </tr>\n",
       "    <tr>\n",
       "      <th>2017-01-07</th>\n",
       "      <td>32</td>\n",
       "      <td>28</td>\n",
       "      <td>snow</td>\n",
       "    </tr>\n",
       "    <tr>\n",
       "      <th>2017-01-08</th>\n",
       "      <td>32mph</td>\n",
       "      <td>28</td>\n",
       "      <td>snow</td>\n",
       "    </tr>\n",
       "    <tr>\n",
       "      <th>2017-01-09</th>\n",
       "      <td>32</td>\n",
       "      <td>28</td>\n",
       "      <td>no event</td>\n",
       "    </tr>\n",
       "    <tr>\n",
       "      <th>2017-01-10</th>\n",
       "      <td>32</td>\n",
       "      <td>28mph</td>\n",
       "      <td>rain</td>\n",
       "    </tr>\n",
       "    <tr>\n",
       "      <th>2017-01-11</th>\n",
       "      <td>32</td>\n",
       "      <td>28</td>\n",
       "      <td>snow</td>\n",
       "    </tr>\n",
       "  </tbody>\n",
       "</table>\n",
       "</div>"
      ],
      "text/plain": [
       "           temperature winddpeed     event\n",
       "date                                      \n",
       "2017-01-01       32mph        32      snow\n",
       "2017-01-04       32mph        40     sunny\n",
       "2017-01-05          32     28mph  no event\n",
       "2017-01-06          32        28      rain\n",
       "2017-01-07          32        28      snow\n",
       "2017-01-08       32mph        28      snow\n",
       "2017-01-09          32        28  no event\n",
       "2017-01-10          32     28mph      rain\n",
       "2017-01-11          32        28      snow"
      ]
     },
     "execution_count": 14,
     "metadata": {},
     "output_type": "execute_result"
    }
   ],
   "source": [
    "import pandas as pd\n",
    "df = pd.read_csv(\"C:\\\\Users\\\\Lenovo\\\\OneDrive\\\\Documents\\\\weather1.csv\",parse_dates=['date'])\n",
    "print(df.columns)\n",
    "df\n",
    "df.set_index(\"date\",inplace = True)\n",
    "df\n",
    "new_df = df.fillna(0)\n",
    "new_df\n",
    "new_df = df.fillna({\n",
    "    \"temperature\": 0,\n",
    "    \"winddpeed\":0,\n",
    "    \"event\":\"no event\"\n",
    "})\n",
    "new_df"
   ]
  },
  {
   "cell_type": "code",
   "execution_count": 15,
   "id": "512f1df3-3482-4c71-a153-51b744226aec",
   "metadata": {},
   "outputs": [
    {
     "ename": "TypeError",
     "evalue": "Cannot interpolate with all object-dtype columns in the DataFrame. Try setting at least one column to a numeric dtype.",
     "output_type": "error",
     "traceback": [
      "\u001b[1;31m---------------------------------------------------------------------------\u001b[0m",
      "\u001b[1;31mTypeError\u001b[0m                                 Traceback (most recent call last)",
      "\u001b[1;32m<ipython-input-15-9553204ff846>\u001b[0m in \u001b[0;36m<module>\u001b[1;34m\u001b[0m\n\u001b[0;32m      3\u001b[0m \u001b[0mnew_df\u001b[0m\u001b[1;33m\u001b[0m\u001b[1;33m\u001b[0m\u001b[0m\n\u001b[0;32m      4\u001b[0m \u001b[1;31m# new_df = df.interpolate()\u001b[0m\u001b[1;33m\u001b[0m\u001b[1;33m\u001b[0m\u001b[1;33m\u001b[0m\u001b[0m\n\u001b[1;32m----> 5\u001b[1;33m \u001b[0mnew_df\u001b[0m \u001b[1;33m=\u001b[0m \u001b[0mdf\u001b[0m\u001b[1;33m.\u001b[0m\u001b[0minterpolate\u001b[0m\u001b[1;33m(\u001b[0m\u001b[0mmethod\u001b[0m \u001b[1;33m=\u001b[0m \u001b[1;34m\"time\"\u001b[0m\u001b[1;33m)\u001b[0m\u001b[1;33m\u001b[0m\u001b[1;33m\u001b[0m\u001b[0m\n\u001b[0m\u001b[0;32m      6\u001b[0m \u001b[1;33m\u001b[0m\u001b[0m\n\u001b[0;32m      7\u001b[0m \u001b[0mnew_df\u001b[0m\u001b[1;33m\u001b[0m\u001b[1;33m\u001b[0m\u001b[0m\n",
      "\u001b[1;32mC:\\Program Files\\Autosphere\\Process Studio\\App\\Python\\lib\\site-packages\\pandas\\util\\_decorators.py\u001b[0m in \u001b[0;36mwrapper\u001b[1;34m(*args, **kwargs)\u001b[0m\n\u001b[0;32m    309\u001b[0m                     \u001b[0mstacklevel\u001b[0m\u001b[1;33m=\u001b[0m\u001b[0mstacklevel\u001b[0m\u001b[1;33m,\u001b[0m\u001b[1;33m\u001b[0m\u001b[1;33m\u001b[0m\u001b[0m\n\u001b[0;32m    310\u001b[0m                 )\n\u001b[1;32m--> 311\u001b[1;33m             \u001b[1;32mreturn\u001b[0m \u001b[0mfunc\u001b[0m\u001b[1;33m(\u001b[0m\u001b[1;33m*\u001b[0m\u001b[0margs\u001b[0m\u001b[1;33m,\u001b[0m \u001b[1;33m**\u001b[0m\u001b[0mkwargs\u001b[0m\u001b[1;33m)\u001b[0m\u001b[1;33m\u001b[0m\u001b[1;33m\u001b[0m\u001b[0m\n\u001b[0m\u001b[0;32m    312\u001b[0m \u001b[1;33m\u001b[0m\u001b[0m\n\u001b[0;32m    313\u001b[0m         \u001b[1;32mreturn\u001b[0m \u001b[0mwrapper\u001b[0m\u001b[1;33m\u001b[0m\u001b[1;33m\u001b[0m\u001b[0m\n",
      "\u001b[1;32mC:\\Program Files\\Autosphere\\Process Studio\\App\\Python\\lib\\site-packages\\pandas\\core\\frame.py\u001b[0m in \u001b[0;36minterpolate\u001b[1;34m(self, method, axis, limit, inplace, limit_direction, limit_area, downcast, **kwargs)\u001b[0m\n\u001b[0;32m  10718\u001b[0m             \u001b[0mlimit_area\u001b[0m\u001b[1;33m,\u001b[0m\u001b[1;33m\u001b[0m\u001b[1;33m\u001b[0m\u001b[0m\n\u001b[0;32m  10719\u001b[0m             \u001b[0mdowncast\u001b[0m\u001b[1;33m,\u001b[0m\u001b[1;33m\u001b[0m\u001b[1;33m\u001b[0m\u001b[0m\n\u001b[1;32m> 10720\u001b[1;33m             \u001b[1;33m**\u001b[0m\u001b[0mkwargs\u001b[0m\u001b[1;33m,\u001b[0m\u001b[1;33m\u001b[0m\u001b[1;33m\u001b[0m\u001b[0m\n\u001b[0m\u001b[0;32m  10721\u001b[0m         )\n\u001b[0;32m  10722\u001b[0m \u001b[1;33m\u001b[0m\u001b[0m\n",
      "\u001b[1;32mC:\\Program Files\\Autosphere\\Process Studio\\App\\Python\\lib\\site-packages\\pandas\\core\\generic.py\u001b[0m in \u001b[0;36minterpolate\u001b[1;34m(self, method, axis, limit, inplace, limit_direction, limit_area, downcast, **kwargs)\u001b[0m\n\u001b[0;32m   6865\u001b[0m         \u001b[1;32mif\u001b[0m \u001b[0mobj\u001b[0m\u001b[1;33m.\u001b[0m\u001b[0mndim\u001b[0m \u001b[1;33m==\u001b[0m \u001b[1;36m2\u001b[0m \u001b[1;32mand\u001b[0m \u001b[0mnp\u001b[0m\u001b[1;33m.\u001b[0m\u001b[0mall\u001b[0m\u001b[1;33m(\u001b[0m\u001b[0mobj\u001b[0m\u001b[1;33m.\u001b[0m\u001b[0mdtypes\u001b[0m \u001b[1;33m==\u001b[0m \u001b[0mnp\u001b[0m\u001b[1;33m.\u001b[0m\u001b[0mdtype\u001b[0m\u001b[1;33m(\u001b[0m\u001b[1;34m\"object\"\u001b[0m\u001b[1;33m)\u001b[0m\u001b[1;33m)\u001b[0m\u001b[1;33m:\u001b[0m\u001b[1;33m\u001b[0m\u001b[1;33m\u001b[0m\u001b[0m\n\u001b[0;32m   6866\u001b[0m             raise TypeError(\n\u001b[1;32m-> 6867\u001b[1;33m                 \u001b[1;34m\"Cannot interpolate with all object-dtype columns \"\u001b[0m\u001b[1;33m\u001b[0m\u001b[1;33m\u001b[0m\u001b[0m\n\u001b[0m\u001b[0;32m   6868\u001b[0m                 \u001b[1;34m\"in the DataFrame. Try setting at least one \"\u001b[0m\u001b[1;33m\u001b[0m\u001b[1;33m\u001b[0m\u001b[0m\n\u001b[0;32m   6869\u001b[0m                 \u001b[1;34m\"column to a numeric dtype.\"\u001b[0m\u001b[1;33m\u001b[0m\u001b[1;33m\u001b[0m\u001b[0m\n",
      "\u001b[1;31mTypeError\u001b[0m: Cannot interpolate with all object-dtype columns in the DataFrame. Try setting at least one column to a numeric dtype."
     ]
    }
   ],
   "source": [
    "# new_df = df.fillna(method= \"bfill\",axis= \"columns\")\n",
    "new_df = df.fillna(method= \"bfill\",limit = 1)\n",
    "new_df\n",
    "# new_df = df.interpolate()\n",
    "new_df = df.interpolate(method = \"time\")\n",
    "\n",
    "new_df\n",
    "new_df = df.dropna()\n",
    "new_df\n",
    "new_df = df.dropna(how = \"all\")\n",
    "new_df\n",
    "new_df = df.dropna(thresh=2)\n",
    "new_df\n"
   ]
  },
  {
   "cell_type": "code",
   "execution_count": null,
   "id": "ebd7575c-73e5-4c96-a96b-012505e2470c",
   "metadata": {},
   "outputs": [],
   "source": [
    "dt = pd.date_range(\"01-01-2017\",\"01-11-2017\")\n",
    "idx = pd.DatetimeIndex(dt)\n",
    "df.reindex(idx)\n"
   ]
  },
  {
   "cell_type": "code",
   "execution_count": null,
   "id": "8531a4c1-3698-4437-8176-70faaf47f8a2",
   "metadata": {},
   "outputs": [],
   "source": [
    "import pandas as pd\n",
    "import numpy as np\n",
    "df = pd.read_csv(\"C:\\\\Users\\\\Lenovo\\\\OneDrive\\\\Documents\\\\weather1.csv\")\n",
    "df"
   ]
  },
  {
   "cell_type": "code",
   "execution_count": null,
   "id": "4485cf94-893d-4d70-92c1-146c8955da7e",
   "metadata": {},
   "outputs": [],
   "source": [
    "new_df = df.replace(-99999,np.NaN)\n",
    "new_df \n"
   ]
  },
  {
   "cell_type": "code",
   "execution_count": null,
   "id": "ba5f1020-f12b-4b96-b336-9948bf286bfa",
   "metadata": {},
   "outputs": [],
   "source": [
    "new_df = df.replace([-99999,-88888],np.NaN)\n",
    "new_df"
   ]
  },
  {
   "cell_type": "code",
   "execution_count": null,
   "id": "d565dc13-a61e-4d84-bfe0-09a2b7984f23",
   "metadata": {},
   "outputs": [],
   "source": [
    "new_df = df.replace({\n",
    "    \"temperature\" : [-99999,-88888],\n",
    "    \"winddpeed\" : [-99999,-88888],\n",
    "},np.NaN)\n",
    "new_df"
   ]
  },
  {
   "cell_type": "code",
   "execution_count": null,
   "id": "6df0a95b-ae83-4e3d-8fc0-5cb7840ced58",
   "metadata": {},
   "outputs": [],
   "source": [
    "new_df = df.replace({\n",
    "    -99999 : np.NaN,\n",
    "    \"no event\" : \"sunny\"\n",
    "})\n",
    "new_df"
   ]
  },
  {
   "cell_type": "code",
   "execution_count": null,
   "id": "1c53a61c-adbf-4077-89e5-226b7167f026",
   "metadata": {},
   "outputs": [],
   "source": [
    "new_df = df.replace('[A-Za-z]',' ',regex=True)\n",
    "new_df\n"
   ]
  },
  {
   "cell_type": "code",
   "execution_count": null,
   "id": "38f8eee7-2ac8-4dad-b8e4-0870c36ca0a6",
   "metadata": {},
   "outputs": [],
   "source": [
    "new_df = df.replace({\n",
    "    \"temperature\" : '[A-Za-z]',\n",
    "    \"winddpeed\" : '[A-Za-z]',\n",
    "},'',regex=True)\n",
    "new_df"
   ]
  },
  {
   "cell_type": "code",
   "execution_count": null,
   "id": "0d118c38-98f2-4428-94af-ae8636b6177e",
   "metadata": {},
   "outputs": [],
   "source": [
    "df = pd.DataFrame({\n",
    "    \"score\":[\"runs\",\"outs\",\"average\",\"run outs\"],\n",
    "    \"player\":[\"atif\",\"ammad\",\"hammad\",\"lashkar\"],\n",
    "})\n",
    "df"
   ]
  },
  {
   "cell_type": "code",
   "execution_count": null,
   "id": "71f12066-e3ee-4a30-97c6-7d20b95dddbd",
   "metadata": {},
   "outputs": [],
   "source": [
    "new_df=df.replace([\"runs\",\"outs\",\"average\",\"run outs\"],[1,2,3,4])\n",
    "new_df\n"
   ]
  },
  {
   "cell_type": "code",
   "execution_count": null,
   "id": "13b1eae2-34d6-402a-b3d6-c35b57cf828e",
   "metadata": {},
   "outputs": [],
   "source": [
    "import pandas as pd\n",
    "df = pd.read_csv(\"C:\\\\Users\\\\Lenovo\\\\Downloads\\\\weather_by_cities.csv\")\n",
    "df"
   ]
  },
  {
   "cell_type": "code",
   "execution_count": null,
   "id": "9befa590-eec3-4a14-9c34-80846da015fd",
   "metadata": {},
   "outputs": [],
   "source": [
    "g = df.groupby(\"city\")\n",
    "g"
   ]
  },
  {
   "cell_type": "code",
   "execution_count": null,
   "id": "b7f1ad2f-c0b2-407a-80d8-490fa164d35d",
   "metadata": {},
   "outputs": [],
   "source": [
    "for city,city_df in g:\n",
    "    # print(city)\n",
    "    print(city_df)"
   ]
  },
  {
   "cell_type": "code",
   "execution_count": null,
   "id": "05feba87-fb15-4b10-a762-d532c3acebd1",
   "metadata": {},
   "outputs": [],
   "source": [
    "g.get_group(\"mumbai\")"
   ]
  },
  {
   "cell_type": "code",
   "execution_count": null,
   "id": "008de84f-bcf5-40dd-a072-da31703acb7b",
   "metadata": {},
   "outputs": [],
   "source": [
    "g.max()"
   ]
  },
  {
   "cell_type": "code",
   "execution_count": null,
   "id": "a9bbc684-daf5-4635-b7d8-6e21b9bc17c2",
   "metadata": {},
   "outputs": [],
   "source": [
    "g.mean()"
   ]
  },
  {
   "cell_type": "code",
   "execution_count": null,
   "id": "7f960b4a-38d2-4e05-8e36-fba2a2b73593",
   "metadata": {},
   "outputs": [],
   "source": [
    "g.describe()"
   ]
  },
  {
   "cell_type": "code",
   "execution_count": null,
   "id": "dd84e6b6-20f1-4229-bb1b-69672f7a3017",
   "metadata": {},
   "outputs": [],
   "source": [
    "%matplotlib inline\n",
    "g.plot()"
   ]
  },
  {
   "cell_type": "code",
   "execution_count": null,
   "id": "388a6356-8628-42e1-b98a-9847e1481bc3",
   "metadata": {},
   "outputs": [],
   "source": [
    "import pandas as pd\n",
    "india_weather = pd.DataFrame({\n",
    "    \"city\" :[\"mumbai\",\"delhi\",\"banglour\"],\n",
    "    \"humidity\":[40,50,60],\n",
    "    \"temperature\" :[20,30,60],\n",
    "})\n",
    "india_weather\n",
    "\n",
    "    "
   ]
  },
  {
   "cell_type": "code",
   "execution_count": null,
   "id": "fc9ed592-151b-440d-b423-eebba521c6ff",
   "metadata": {},
   "outputs": [],
   "source": [
    "us_weather = pd.DataFrame({\n",
    "    \"city\" :[\"new york\",\"paris\",\"san Francisco\"],\n",
    "    \"humidity\" :[10,15,20],\n",
    "    \"temperature\" :[20,30,40],\n",
    "})\n",
    "us_weather\n"
   ]
  },
  {
   "cell_type": "code",
   "execution_count": null,
   "id": "06ae8631-50e1-4941-a480-d6b8ae8f55d6",
   "metadata": {},
   "outputs": [],
   "source": [
    "df = pd.concat([india_weather,us_weather])\n",
    "df"
   ]
  },
  {
   "cell_type": "code",
   "execution_count": null,
   "id": "f2a09b36-618f-4716-94ad-3c5f0337c7da",
   "metadata": {},
   "outputs": [],
   "source": [
    "df = pd.concat([india_weather,us_weather],ignore_index = True)\n",
    "df"
   ]
  },
  {
   "cell_type": "code",
   "execution_count": null,
   "id": "b3242013-ee1f-4b5e-8765-dd581731fe7a",
   "metadata": {},
   "outputs": [],
   "source": [
    "temperature_df = pd.DataFrame({\n",
    "    \"city\" :[\"mumbai\",\"delhi\",\"banglour\"],\n",
    "    \"temperature\":[12,15,20],\n",
    "},index = [0,1,2])\n",
    "temperature_df"
   ]
  },
  {
   "cell_type": "code",
   "execution_count": null,
   "id": "35ae3e53-d367-4136-9360-c76965ce7c67",
   "metadata": {},
   "outputs": [],
   "source": [
    "windspeed_df = pd.DataFrame({\n",
    "    \"city\" :[\"delhi\",\"mumbai\"],\n",
    "    \"windspeed\" :[40,50],\n",
    "},index = [1,0])\n",
    "windspeed_df"
   ]
  },
  {
   "cell_type": "code",
   "execution_count": null,
   "id": "671f9260-b188-4cac-b804-61a083040a11",
   "metadata": {},
   "outputs": [],
   "source": [
    "df = pd.concat([temperature_df,windspeed_df])\n",
    "df"
   ]
  },
  {
   "cell_type": "code",
   "execution_count": null,
   "id": "9e196aaf-724e-486f-aa70-17484145a6fd",
   "metadata": {},
   "outputs": [],
   "source": [
    "df = pd.concat([temperature_df,windspeed_df],axis=1)\n",
    "df"
   ]
  },
  {
   "cell_type": "code",
   "execution_count": null,
   "id": "af88ec77-c980-4828-8499-3655650fd9dd",
   "metadata": {},
   "outputs": [],
   "source": [
    "temperature_df"
   ]
  },
  {
   "cell_type": "code",
   "execution_count": null,
   "id": "1a33d787-5899-44d9-b4a4-5b9813efca39",
   "metadata": {},
   "outputs": [],
   "source": [
    "s = pd.Series([\"humid\",\"Dry\",\"Rain\"],name = \"event\")\n",
    "s"
   ]
  },
  {
   "cell_type": "code",
   "execution_count": null,
   "id": "b896b185-9213-4fa2-9640-a459eeba9045",
   "metadata": {},
   "outputs": [],
   "source": [
    "pd.concat([temperature_df,s],axis=1)\n"
   ]
  },
  {
   "cell_type": "code",
   "execution_count": null,
   "id": "f0e507ee-55a0-4cae-b0c5-2662e7e1f6db",
   "metadata": {},
   "outputs": [],
   "source": [
    "df1 = pd.DataFrame({\n",
    "    \"city\" : [\"paris\",\"sanfrancisco\",\"new york\",\"san\"],\n",
    "    \"temperature\" : [12,44,45,33],\n",
    "})\n",
    "df1"
   ]
  },
  {
   "cell_type": "code",
   "execution_count": null,
   "id": "5295edc5-31dd-43b2-b9df-348fa415a8f5",
   "metadata": {},
   "outputs": [],
   "source": [
    "df2 = pd.DataFrame({\n",
    "    \"city\" : [\"paris\",\"sanfrancisco\",\"new york\",\"chicago\"],\n",
    "    \"temperature\" : [12,44,45,33],\n",
    "})\n",
    "df2"
   ]
  },
  {
   "cell_type": "code",
   "execution_count": null,
   "id": "9f9fa5ae-d44d-486c-a39e-7f687fe9c4ac",
   "metadata": {},
   "outputs": [],
   "source": [
    "df3= pd.merge(df1,df2, on=\"city\",how=\"outer\",indicator=True)\n",
    "df3"
   ]
  },
  {
   "cell_type": "code",
   "execution_count": null,
   "id": "ac603e1b-2577-4d08-b533-90b13443dec7",
   "metadata": {},
   "outputs": [],
   "source": [
    "df3= pd.merge(df1,df2, on=\"city\",how=\"outer\", suffixes=(\"_\",\"_right\"))\n",
    "df3\n"
   ]
  },
  {
   "cell_type": "code",
   "execution_count": null,
   "id": "8467b466-cdb8-46a0-8906-1a35a7a2798a",
   "metadata": {},
   "outputs": [],
   "source": [
    "import pandas as pd\n",
    "df = pd.read_csv(\"C:\\\\Users\\\\Lenovo\\\\Downloads\\\\weather (1).csv\")\n",
    "df"
   ]
  },
  {
   "cell_type": "code",
   "execution_count": null,
   "id": "23897ecf-ad8e-4cc5-8ab1-334b9f928f55",
   "metadata": {},
   "outputs": [],
   "source": [
    "df1 = pd.melt(df,id_vars=[\"day\"],var_name = \"city\", value_name = \"temperature\" )\n",
    "df1"
   ]
  },
  {
   "cell_type": "code",
   "execution_count": null,
   "id": "cb74466a-93d3-4293-a787-b93b208e077b",
   "metadata": {},
   "outputs": [],
   "source": [
    "import pandas as pd\n",
    "df = pd.read_excel(\"C:\\\\Users\\\\Lenovo\\\\Downloads\\\\stocks.xlsx\",header=[0,1])\n",
    "df"
   ]
  },
  {
   "cell_type": "code",
   "execution_count": null,
   "id": "65baa768-ea14-4e89-9476-2b3521162a78",
   "metadata": {},
   "outputs": [],
   "source": [
    "df.stack()"
   ]
  },
  {
   "cell_type": "code",
   "execution_count": null,
   "id": "fed00789-9725-4400-8658-1d67f4c77aa3",
   "metadata": {},
   "outputs": [],
   "source": [
    "# df.stack(level=0)\n"
   ]
  },
  {
   "cell_type": "code",
   "execution_count": null,
   "id": "1f26f408-5485-46f5-8d6e-549a7c69b3f4",
   "metadata": {},
   "outputs": [],
   "source": [
    "df_stacked = df.stack()\n",
    "df_stacked"
   ]
  },
  {
   "cell_type": "code",
   "execution_count": null,
   "id": "3524eea5-f9f8-4c4d-bd21-d5a6a47eb7ba",
   "metadata": {},
   "outputs": [],
   "source": [
    "df_stacked.unstack()"
   ]
  },
  {
   "cell_type": "code",
   "execution_count": null,
   "id": "fedc77d3-9e14-47e9-8dc7-81532e3ebd39",
   "metadata": {},
   "outputs": [],
   "source": [
    "df = pd.read_excel(\"C:\\\\Users\\\\Lenovo\\\\Downloads\\\\stocks_3_levels.xlsx\",header=[0,1,2])\n",
    "df\n"
   ]
  },
  {
   "cell_type": "code",
   "execution_count": null,
   "id": "a0f2f4a5-a2b1-4f89-9352-7ee010061570",
   "metadata": {},
   "outputs": [],
   "source": [
    "df.stack(level=1)"
   ]
  },
  {
   "cell_type": "code",
   "execution_count": null,
   "id": "96020457-0a00-4dfc-9241-8980f851f0f7",
   "metadata": {},
   "outputs": [],
   "source": [
    "import pandas as pd\n",
    "df = pd.read_excel(\"C:\\\\Users\\\\Lenovo\\\\Downloads\\\\survey.xls\")\n",
    "df\n"
   ]
  },
  {
   "cell_type": "code",
   "execution_count": null,
   "id": "f88d1f29-2619-4e8d-a3d9-77f89de4c5ac",
   "metadata": {},
   "outputs": [],
   "source": [
    "pd.crosstab(df.Nationality,df.Handedness)"
   ]
  },
  {
   "cell_type": "code",
   "execution_count": null,
   "id": "db61ef57-8e70-4d5f-9f01-ea711cc0c2dc",
   "metadata": {},
   "outputs": [],
   "source": [
    "pd.crosstab(df.Sex,df.Handedness)\n",
    "\n"
   ]
  },
  {
   "cell_type": "code",
   "execution_count": null,
   "id": "74aeeec2-08d7-4af4-b402-55abe591bec7",
   "metadata": {},
   "outputs": [],
   "source": [
    "import pandas as pd\n",
    "# Sample dataframe\n",
    "df = pd.DataFrame({\n",
    "'Day': ['Mon', 'Tue', 'Wed'],\n",
    "'Apple': [1, 3, 5],\n",
    "'Banana': [2, 4, 6]\n",
    "})\n",
    "melted_df = df.melt(id_vars=['Day'], var_name='Fruit', value_name='Quantity')\n",
    "melted_df"
   ]
  },
  {
   "cell_type": "code",
   "execution_count": null,
   "id": "61fcfa83-f549-4204-809d-db71ad8bed9e",
   "metadata": {},
   "outputs": [],
   "source": [
    "import pandas as pd\n",
    "df = pd.read_csv(\"C:\\\\Users\\\\Lenovo\\\\Downloads\\\\aapl_no_dates.csv\")\n",
    "df.head()"
   ]
  },
  {
   "cell_type": "code",
   "execution_count": null,
   "id": "6c5c8103-a67c-4c83-bd93-0ea3ae1ec3a1",
   "metadata": {},
   "outputs": [],
   "source": [
    "rng = pd.date_range(start=\"6/1/2016\",end=\"6/30/2016\",freq='B')\n",
    "rng"
   ]
  },
  {
   "cell_type": "code",
   "execution_count": null,
   "id": "0fef6443-876c-49bc-8cdd-e8e5a6ee977e",
   "metadata": {},
   "outputs": [],
   "source": [
    "df.set_index(rng,inplace=True)\n",
    "df.head()"
   ]
  },
  {
   "cell_type": "code",
   "execution_count": null,
   "id": "ba7ea4a0-cc1e-459a-9f41-3f6ed17942bd",
   "metadata": {},
   "outputs": [],
   "source": [
    "daily_index = pd.date_range(start=\"6/1/2016\",end=\"10/30/2016\",freq='D')\n",
    "daily_index"
   ]
  },
  {
   "cell_type": "code",
   "execution_count": null,
   "id": "4de611bc-c715-47f4-a21b-e952d1c19813",
   "metadata": {},
   "outputs": [],
   "source": [
    "daily_index.difference(df.index)\n"
   ]
  },
  {
   "cell_type": "code",
   "execution_count": null,
   "id": "1e78878b-79c2-4df7-a8e3-a061722fdc45",
   "metadata": {},
   "outputs": [],
   "source": [
    "%matplotlib inline\n",
    "df.Close.plot()"
   ]
  },
  {
   "cell_type": "code",
   "execution_count": null,
   "id": "38d138da-26dd-48c2-a6eb-b1378ea0a49e",
   "metadata": {},
   "outputs": [],
   "source": [
    "df[\"2016-06-01\":\"2016-06-10\"].Close.mean()\n"
   ]
  },
  {
   "cell_type": "code",
   "execution_count": null,
   "id": "6653160b-b7ce-43b5-9d48-883594896983",
   "metadata": {},
   "outputs": [],
   "source": [
    "df.index"
   ]
  },
  {
   "cell_type": "code",
   "execution_count": null,
   "id": "9bdb899d-303c-41f5-bcb3-79efc4abe612",
   "metadata": {},
   "outputs": [],
   "source": [
    "import pandas as pd\n",
    "df = pd.read_csv(\"C:\\\\Users\\\\Lenovo\\\\Downloads\\\\aapl.csv\",parse_dates=[\"Date\"], index_col=\"Date\")\n",
    "df.head(2)"
   ]
  },
  {
   "cell_type": "code",
   "execution_count": null,
   "id": "677cfa32-71b7-4b52-8b21-66060ca559c5",
   "metadata": {},
   "outputs": [],
   "source": [
    "df.index"
   ]
  },
  {
   "cell_type": "code",
   "execution_count": null,
   "id": "a12a4090-bd97-47fb-befa-2db2090d41d6",
   "metadata": {},
   "outputs": [],
   "source": [
    "df[\"2017-06-30\"]"
   ]
  },
  {
   "cell_type": "code",
   "execution_count": null,
   "id": "dbdb420b-898a-4aa6-8763-c81afcbada9a",
   "metadata": {},
   "outputs": [],
   "source": [
    "df[\"2017-01\"]"
   ]
  },
  {
   "cell_type": "code",
   "execution_count": null,
   "id": "eddddeff-e818-4294-9c80-6e06a44000c8",
   "metadata": {},
   "outputs": [],
   "source": [
    "df['Close'].resample('M').mean().head()\n"
   ]
  },
  {
   "cell_type": "code",
   "execution_count": null,
   "id": "5abe8f90-9eff-4dd1-8cef-f20cd37fb062",
   "metadata": {},
   "outputs": [],
   "source": [
    "df[\"2016-07\"]"
   ]
  },
  {
   "cell_type": "code",
   "execution_count": null,
   "id": "37179281-8792-4107-b566-2a7406d4ddb3",
   "metadata": {},
   "outputs": [],
   "source": [
    "%matplotlib inline\n",
    "df.Close.plot()"
   ]
  },
  {
   "cell_type": "code",
   "execution_count": null,
   "id": "a7f9e6aa-585e-4cf6-aa27-8942788467aa",
   "metadata": {},
   "outputs": [],
   "source": [
    "df[\"Close\"].resample(\"M\").mean().plot(kind='bar')"
   ]
  },
  {
   "cell_type": "code",
   "execution_count": null,
   "id": "9fbee69b-0ae5-4478-90cc-e090ce1bad3e",
   "metadata": {},
   "outputs": [],
   "source": [
    "import pandas as pd\n",
    "df = pd.read_csv(\"C:\\\\Users\\\\Lenovo\\\\Downloads\\\\aapl_no_dates.csv\")\n",
    "df"
   ]
  },
  {
   "cell_type": "code",
   "execution_count": null,
   "id": "5788111e-65ed-4214-995a-3898e37e2756",
   "metadata": {},
   "outputs": [],
   "source": [
    "rng = pd.date_range(start=\"7/1/2017\", end=\"7/21/2017\",freq='B')\n",
    "rng"
   ]
  },
  {
   "cell_type": "code",
   "execution_count": 23,
   "id": "3a8707a1-bee0-40d3-81c2-045258178ff9",
   "metadata": {},
   "outputs": [
    {
     "name": "stdout",
     "output_type": "stream",
     "text": [
      "<CustomBusinessDay>\n"
     ]
    }
   ],
   "source": [
    "from pandas.tseries.holiday import AbstractHolidayCalendar, Holiday, nearest_workday\n",
    "from pandas.tseries.offsets import CustomBusinessDay\n",
    "\n",
    "class MyBirthdayCalendar(AbstractHolidayCalendar):\n",
    "    rules = [\n",
    "        Holiday(\"Atif's Birthday\", month=11, day=16)\n",
    "    ]\n",
    "\n",
    "myc = CustomBusinessDay(calendar=MyBirthdayCalendar())\n",
    "print(myc)"
   ]
  },
  {
   "cell_type": "code",
   "execution_count": 24,
   "id": "6a008fcd-62cb-409c-8c7e-5160cac0f18f",
   "metadata": {},
   "outputs": [
    {
     "data": {
      "text/plain": [
       "DatetimeIndex(['2024-11-01', '2024-11-04', '2024-11-05', '2024-11-06',\n",
       "               '2024-11-07', '2024-11-08', '2024-11-11', '2024-11-12',\n",
       "               '2024-11-13', '2024-11-14', '2024-11-15', '2024-11-18',\n",
       "               '2024-11-19', '2024-11-20', '2024-11-21', '2024-11-22',\n",
       "               '2024-11-25', '2024-11-26', '2024-11-27', '2024-11-28',\n",
       "               '2024-11-29'],\n",
       "              dtype='datetime64[ns]', freq='C')"
      ]
     },
     "execution_count": 24,
     "metadata": {},
     "output_type": "execute_result"
    }
   ],
   "source": [
    "pd.date_range(start=\"11/1/2024\",end=\"11/30/2024\",freq=myc)"
   ]
  },
  {
   "cell_type": "code",
   "execution_count": 29,
   "id": "f0201b7e-9f1f-4290-b459-8d5c7a4a99d7",
   "metadata": {},
   "outputs": [
    {
     "data": {
      "text/plain": [
       "DatetimeIndex(['2024-11-01', '2024-11-04', '2024-11-05', '2024-11-06',\n",
       "               '2024-11-07', '2024-11-08', '2024-11-11', '2024-11-12',\n",
       "               '2024-11-13', '2024-11-14', '2024-11-18', '2024-11-19',\n",
       "               '2024-11-20', '2024-11-21', '2024-11-22', '2024-11-25',\n",
       "               '2024-11-26', '2024-11-27', '2024-11-28', '2024-11-29'],\n",
       "              dtype='datetime64[ns]', freq='C')"
      ]
     },
     "execution_count": 29,
     "metadata": {},
     "output_type": "execute_result"
    }
   ],
   "source": [
    "from pandas.tseries.holiday import AbstractHolidayCalendar, Holiday,nearest_workday\n",
    "from pandas.tseries.offsets import CustomBusinessDay\n",
    "import pandas as pd\n",
    "\n",
    "class MyBirthdayCalendar(AbstractHolidayCalendar):\n",
    "    rules = [\n",
    "        Holiday(\"Atif's Birthday\", month=11, day=16, observance=nearest_workday),\n",
    "    ]\n",
    "\n",
    "myc = CustomBusinessDay(calendar=MyBirthdayCalendar())\n",
    "date_range = pd.date_range(start=\"11/1/2024\", end=\"11/30/2024\", freq=myc)\n",
    "(date_range)\n"
   ]
  },
  {
   "cell_type": "code",
   "execution_count": 45,
   "id": "0043d921-616e-4629-9f06-733ee41e4348",
   "metadata": {},
   "outputs": [
    {
     "data": {
      "text/plain": [
       "DatetimeIndex(['2024-07-01', '2024-07-02', '2024-07-03', '2024-07-04',\n",
       "               '2024-07-07', '2024-07-08', '2024-07-09', '2024-07-10',\n",
       "               '2024-07-11', '2024-07-14', '2024-07-15', '2024-07-16',\n",
       "               '2024-07-21', '2024-07-22', '2024-07-23', '2024-07-24',\n",
       "               '2024-07-25', '2024-07-28', '2024-07-29'],\n",
       "              dtype='datetime64[ns]', freq='C')"
      ]
     },
     "execution_count": 45,
     "metadata": {},
     "output_type": "execute_result"
    }
   ],
   "source": [
    "b = CustomBusinessDay(weekmask =\"Sun Mon Tue Wed Thu\",holidays=[\"2024-07-17\",\"2024-07-18\"])\n",
    "pd.date_range(start =\"7/1/2024\", end=\"7/29/2024\", freq=b)\n"
   ]
  },
  {
   "cell_type": "code",
   "execution_count": 73,
   "id": "a3a2386e-cdc5-46dd-84a0-f3e1ae3c7d53",
   "metadata": {},
   "outputs": [
    {
     "data": {
      "text/plain": [
       "DatetimeIndex(['2017-01-05 14:30:00', '2017-01-05 14:30:00',\n",
       "               '2017-01-05 00:00:00', '2017-01-05 00:00:00',\n",
       "               '2017-01-05 00:00:00',                 'NaT'],\n",
       "              dtype='datetime64[ns]', freq=None)"
      ]
     },
     "execution_count": 73,
     "metadata": {},
     "output_type": "execute_result"
    }
   ],
   "source": [
    "import pandas as pd\n",
    "dates = [\"2017-01-05 2:30:00PM\",\"Jan5,2017 14:30:00\",\"01/05/2017\",\"2017.01.05\",\"20170105\",\"abc\"]\n",
    "pd.to_datetime(dates, errors='coerce')"
   ]
  },
  {
   "cell_type": "code",
   "execution_count": 65,
   "id": "9cc30ae0-71bd-4134-900c-872fc1cd3055",
   "metadata": {},
   "outputs": [
    {
     "data": {
      "text/plain": [
       "Timestamp('2017-01-05 00:00:00')"
      ]
     },
     "execution_count": 65,
     "metadata": {},
     "output_type": "execute_result"
    }
   ],
   "source": [
    "pd.to_datetime('5$1$2017', format='%d$%m$%Y')\n"
   ]
  },
  {
   "cell_type": "code",
   "execution_count": 64,
   "id": "edf6f2bd-aeae-404a-a4a6-d00b5d69296a",
   "metadata": {},
   "outputs": [
    {
     "data": {
      "text/plain": [
       "DatetimeIndex(['2024-06-11 09:00:00', '2024-06-11 09:30:00',\n",
       "               '2024-06-11 10:00:00', '2024-06-11 10:30:00',\n",
       "               '2024-06-11 11:00:00', '2024-06-11 11:30:00',\n",
       "               '2024-06-11 12:00:00', '2024-06-11 12:30:00',\n",
       "               '2024-06-11 13:00:00', '2024-06-11 13:30:00'],\n",
       "              dtype='datetime64[ns]', freq='30T')"
      ]
     },
     "execution_count": 64,
     "metadata": {},
     "output_type": "execute_result"
    }
   ],
   "source": [
    "import pandas as pd\n",
    "pd.date_range(start=\"2024-06-11 09:00:00\",periods=10, freq='30min')\n"
   ]
  },
  {
   "cell_type": "code",
   "execution_count": 83,
   "id": "735db39d-e669-4ca8-a58b-64b05f0eb55e",
   "metadata": {},
   "outputs": [
    {
     "data": {
      "text/plain": [
       "DatetimeIndex(['2024-07-11 11:04:11'], dtype='datetime64[ns]', freq=None)"
      ]
     },
     "execution_count": 83,
     "metadata": {},
     "output_type": "execute_result"
    }
   ],
   "source": [
    "import pandas as pd\n",
    "\n",
    "t = 1720695851\n",
    "dt = pd.to_datetime([t], unit='s')\n",
    "dt\n"
   ]
  },
  {
   "cell_type": "code",
   "execution_count": 85,
   "id": "4a5df2d3-0596-4213-bee4-be6788540130",
   "metadata": {},
   "outputs": [],
   "source": [
    "import pandas as pd\n",
    "y=pd.Period('2016')"
   ]
  },
  {
   "cell_type": "code",
   "execution_count": 86,
   "id": "20cde726-3b5d-4c41-b47b-e523c40f0d84",
   "metadata": {},
   "outputs": [
    {
     "data": {
      "text/plain": [
       "Timestamp('2016-01-01 00:00:00')"
      ]
     },
     "execution_count": 86,
     "metadata": {},
     "output_type": "execute_result"
    }
   ],
   "source": [
    "y.start_time"
   ]
  },
  {
   "cell_type": "code",
   "execution_count": 87,
   "id": "c496212f-684f-41e9-8e5a-3d31e7487128",
   "metadata": {},
   "outputs": [
    {
     "data": {
      "text/plain": [
       "Timestamp('2016-12-31 23:59:59.999999999')"
      ]
     },
     "execution_count": 87,
     "metadata": {},
     "output_type": "execute_result"
    }
   ],
   "source": [
    "y.end_time"
   ]
  },
  {
   "cell_type": "code",
   "execution_count": 99,
   "id": "7610d941-2f0d-4c80-8c44-264c41119577",
   "metadata": {},
   "outputs": [
    {
     "data": {
      "text/plain": [
       "Period('2017-12', 'M')"
      ]
     },
     "execution_count": 99,
     "metadata": {},
     "output_type": "execute_result"
    }
   ],
   "source": [
    "m = pd.Period(\"2017-12\",freq='M')\n",
    "m"
   ]
  },
  {
   "cell_type": "code",
   "execution_count": 95,
   "id": "dc1544b1-e3f4-4236-9e2a-0c57753ff5ba",
   "metadata": {},
   "outputs": [
    {
     "data": {
      "text/plain": [
       "Timestamp('2011-01-01 00:00:00')"
      ]
     },
     "execution_count": 95,
     "metadata": {},
     "output_type": "execute_result"
    }
   ],
   "source": [
    "m.start_time"
   ]
  },
  {
   "cell_type": "code",
   "execution_count": 96,
   "id": "4cfd2f7d-d1a4-478a-8606-0fe701b165fc",
   "metadata": {},
   "outputs": [
    {
     "data": {
      "text/plain": [
       "Timestamp('2011-01-31 23:59:59.999999999')"
      ]
     },
     "execution_count": 96,
     "metadata": {},
     "output_type": "execute_result"
    }
   ],
   "source": [
    "m.end_time"
   ]
  },
  {
   "cell_type": "code",
   "execution_count": 100,
   "id": "1c66e424-7f5e-4303-a3ec-c2b584ae9b27",
   "metadata": {},
   "outputs": [
    {
     "data": {
      "text/plain": [
       "Period('2018-01', 'M')"
      ]
     },
     "execution_count": 100,
     "metadata": {},
     "output_type": "execute_result"
    }
   ],
   "source": [
    "m+1"
   ]
  },
  {
   "cell_type": "code",
   "execution_count": 102,
   "id": "73e30341-dbb8-4d34-b531-385ef8d9a6ad",
   "metadata": {},
   "outputs": [
    {
     "data": {
      "text/plain": [
       "Period('2017-02-28', 'D')"
      ]
     },
     "execution_count": 102,
     "metadata": {},
     "output_type": "execute_result"
    }
   ],
   "source": [
    "d=pd.Period('2017-02-28',freq='D')\n",
    "d"
   ]
  },
  {
   "cell_type": "code",
   "execution_count": 104,
   "id": "356fc0f0-92a5-4390-8548-f433c8a60491",
   "metadata": {},
   "outputs": [
    {
     "data": {
      "text/plain": [
       "Timestamp('2017-02-28 00:00:00')"
      ]
     },
     "execution_count": 104,
     "metadata": {},
     "output_type": "execute_result"
    }
   ],
   "source": [
    "d.start_time"
   ]
  },
  {
   "cell_type": "code",
   "execution_count": 105,
   "id": "581baa72-a058-4f2c-87bd-9a261784b9bc",
   "metadata": {},
   "outputs": [
    {
     "data": {
      "text/plain": [
       "Timestamp('2017-02-28 23:59:59.999999999')"
      ]
     },
     "execution_count": 105,
     "metadata": {},
     "output_type": "execute_result"
    }
   ],
   "source": [
    "d.end_time"
   ]
  },
  {
   "cell_type": "code",
   "execution_count": 122,
   "id": "495abb0a-f7b8-450c-9667-9f95e0ac2342",
   "metadata": {},
   "outputs": [
    {
     "data": {
      "text/plain": [
       "Period('2024-12-31 23:00', 'H')"
      ]
     },
     "execution_count": 122,
     "metadata": {},
     "output_type": "execute_result"
    }
   ],
   "source": [
    "h=pd.Period(\"2024-12-31 23:00:00\", freq=\"H\")\n",
    "h"
   ]
  },
  {
   "cell_type": "code",
   "execution_count": 127,
   "id": "93b2d942-54d4-4e43-8e1c-169950f28874",
   "metadata": {},
   "outputs": [
    {
     "ename": "SyntaxError",
     "evalue": "invalid syntax (<ipython-input-127-e65418f0bd9f>, line 1)",
     "output_type": "error",
     "traceback": [
      "\u001b[1;36m  File \u001b[1;32m\"<ipython-input-127-e65418f0bd9f>\"\u001b[1;36m, line \u001b[1;32m1\u001b[0m\n\u001b[1;33m    h+25M\u001b[0m\n\u001b[1;37m        ^\u001b[0m\n\u001b[1;31mSyntaxError\u001b[0m\u001b[1;31m:\u001b[0m invalid syntax\n"
     ]
    }
   ],
   "source": [
    "h"
   ]
  },
  {
   "cell_type": "code",
   "execution_count": 119,
   "id": "3d9ff04e-a21e-4771-81f0-641b3c89b781",
   "metadata": {},
   "outputs": [
    {
     "data": {
      "text/plain": [
       "Period('2025-01-01 00:00', 'H')"
      ]
     },
     "execution_count": 119,
     "metadata": {},
     "output_type": "execute_result"
    }
   ],
   "source": [
    "h+1"
   ]
  },
  {
   "cell_type": "code",
   "execution_count": 121,
   "id": "343475e6-467f-4677-a6a5-92db3a0e730d",
   "metadata": {},
   "outputs": [
    {
     "data": {
      "text/plain": [
       "Period('2025-01-01 11:00', 'H')"
      ]
     },
     "execution_count": 121,
     "metadata": {},
     "output_type": "execute_result"
    }
   ],
   "source": [
    "h+pd.offsets.Hour(12)"
   ]
  },
  {
   "cell_type": "code",
   "execution_count": 130,
   "id": "fe4714a5-89ec-43b7-bc71-20abdb558ea7",
   "metadata": {},
   "outputs": [
    {
     "data": {
      "text/html": [
       "<div>\n",
       "<style scoped>\n",
       "    .dataframe tbody tr th:only-of-type {\n",
       "        vertical-align: middle;\n",
       "    }\n",
       "\n",
       "    .dataframe tbody tr th {\n",
       "        vertical-align: top;\n",
       "    }\n",
       "\n",
       "    .dataframe thead th {\n",
       "        text-align: right;\n",
       "    }\n",
       "</style>\n",
       "<table border=\"1\" class=\"dataframe\">\n",
       "  <thead>\n",
       "    <tr style=\"text-align: right;\">\n",
       "      <th></th>\n",
       "      <th>Line Item</th>\n",
       "      <th>2017Q1</th>\n",
       "      <th>2017Q2</th>\n",
       "      <th>2017Q3</th>\n",
       "      <th>2017Q4</th>\n",
       "      <th>2018Q1</th>\n",
       "    </tr>\n",
       "  </thead>\n",
       "  <tbody>\n",
       "    <tr>\n",
       "      <th>0</th>\n",
       "      <td>Revenue</td>\n",
       "      <td>115904</td>\n",
       "      <td>120854</td>\n",
       "      <td>118179</td>\n",
       "      <td>130936</td>\n",
       "      <td>117542</td>\n",
       "    </tr>\n",
       "    <tr>\n",
       "      <th>1</th>\n",
       "      <td>Expenses</td>\n",
       "      <td>86544</td>\n",
       "      <td>89485</td>\n",
       "      <td>87484</td>\n",
       "      <td>97743</td>\n",
       "      <td>87688</td>\n",
       "    </tr>\n",
       "    <tr>\n",
       "      <th>2</th>\n",
       "      <td>Profit</td>\n",
       "      <td>29360</td>\n",
       "      <td>31369</td>\n",
       "      <td>30695</td>\n",
       "      <td>33193</td>\n",
       "      <td>29854</td>\n",
       "    </tr>\n",
       "  </tbody>\n",
       "</table>\n",
       "</div>"
      ],
      "text/plain": [
       "  Line Item  2017Q1  2017Q2  2017Q3  2017Q4  2018Q1\n",
       "0   Revenue  115904  120854  118179  130936  117542\n",
       "1  Expenses   86544   89485   87484   97743   87688\n",
       "2    Profit   29360   31369   30695   33193   29854"
      ]
     },
     "execution_count": 130,
     "metadata": {},
     "output_type": "execute_result"
    }
   ],
   "source": [
    "import pandas as pd\n",
    "df = pd.read_csv(\"C:\\\\Users\\\\Lenovo\\\\Downloads\\\\wmt.csv\")\n",
    "df"
   ]
  },
  {
   "cell_type": "code",
   "execution_count": 131,
   "id": "196b9825-e0bf-4a27-b225-eaf604092629",
   "metadata": {},
   "outputs": [
    {
     "data": {
      "text/html": [
       "<div>\n",
       "<style scoped>\n",
       "    .dataframe tbody tr th:only-of-type {\n",
       "        vertical-align: middle;\n",
       "    }\n",
       "\n",
       "    .dataframe tbody tr th {\n",
       "        vertical-align: top;\n",
       "    }\n",
       "\n",
       "    .dataframe thead th {\n",
       "        text-align: right;\n",
       "    }\n",
       "</style>\n",
       "<table border=\"1\" class=\"dataframe\">\n",
       "  <thead>\n",
       "    <tr style=\"text-align: right;\">\n",
       "      <th>Line Item</th>\n",
       "      <th>Revenue</th>\n",
       "      <th>Expenses</th>\n",
       "      <th>Profit</th>\n",
       "    </tr>\n",
       "  </thead>\n",
       "  <tbody>\n",
       "    <tr>\n",
       "      <th>2017Q1</th>\n",
       "      <td>115904</td>\n",
       "      <td>86544</td>\n",
       "      <td>29360</td>\n",
       "    </tr>\n",
       "    <tr>\n",
       "      <th>2017Q2</th>\n",
       "      <td>120854</td>\n",
       "      <td>89485</td>\n",
       "      <td>31369</td>\n",
       "    </tr>\n",
       "    <tr>\n",
       "      <th>2017Q3</th>\n",
       "      <td>118179</td>\n",
       "      <td>87484</td>\n",
       "      <td>30695</td>\n",
       "    </tr>\n",
       "    <tr>\n",
       "      <th>2017Q4</th>\n",
       "      <td>130936</td>\n",
       "      <td>97743</td>\n",
       "      <td>33193</td>\n",
       "    </tr>\n",
       "    <tr>\n",
       "      <th>2018Q1</th>\n",
       "      <td>117542</td>\n",
       "      <td>87688</td>\n",
       "      <td>29854</td>\n",
       "    </tr>\n",
       "  </tbody>\n",
       "</table>\n",
       "</div>"
      ],
      "text/plain": [
       "Line Item  Revenue  Expenses  Profit\n",
       "2017Q1      115904     86544   29360\n",
       "2017Q2      120854     89485   31369\n",
       "2017Q3      118179     87484   30695\n",
       "2017Q4      130936     97743   33193\n",
       "2018Q1      117542     87688   29854"
      ]
     },
     "execution_count": 131,
     "metadata": {},
     "output_type": "execute_result"
    }
   ],
   "source": [
    "df.set_index(\"Line Item\",inplace=True)\n",
    "df = df.T\n",
    "df"
   ]
  },
  {
   "cell_type": "code",
   "execution_count": null,
   "id": "00245110-9907-4ca7-a977-80609a45410d",
   "metadata": {},
   "outputs": [],
   "source": []
  }
 ],
 "metadata": {
  "kernelspec": {
   "display_name": "Python 3",
   "language": "python",
   "name": "python3"
  },
  "language_info": {
   "codemirror_mode": {
    "name": "ipython",
    "version": 3
   },
   "file_extension": ".py",
   "mimetype": "text/x-python",
   "name": "python",
   "nbconvert_exporter": "python",
   "pygments_lexer": "ipython3",
   "version": "3.7.5"
  }
 },
 "nbformat": 4,
 "nbformat_minor": 5
}
